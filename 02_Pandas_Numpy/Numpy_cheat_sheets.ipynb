{
 "cells": [
  {
   "cell_type": "markdown",
   "metadata": {
    "tags": []
   },
   "source": [
    "# NumPy Cheat Sheet\n",
    "\n",
    "<h2>Table of Contents<span class=\"tocSkip\"></span></h2>\n",
    "<div class=\"toc\"><li><span><a href=\"#Numpy\" data-toc-modified-id=\"Numpy-2\"><span class=\"toc-item-num\">2&nbsp;&nbsp;</span>Numpy</a></span><ul class=\"toc-item\"><li><span><a href=\"#Create-ndarray\" data-toc-modified-id=\"Create-ndarray-2.1\"><span class=\"toc-item-num\">2.1&nbsp;&nbsp;</span>Create ndarray</a></span></li><li><span><a href=\"#Create-ndarray-with-dtype\" data-toc-modified-id=\"Create-ndarray-with-dtype-2.2\"><span class=\"toc-item-num\">2.2&nbsp;&nbsp;</span>Create ndarray with dtype</a></span></li><li><span><a href=\"#Save-and-load\" data-toc-modified-id=\"Save-and-load-2.3\"><span class=\"toc-item-num\">2.3&nbsp;&nbsp;</span>Save and load</a></span></li><li><span><a href=\"#Zeros\" data-toc-modified-id=\"Zeros-2.4\"><span class=\"toc-item-num\">2.4&nbsp;&nbsp;</span>Zeros</a></span></li><li><span><a href=\"#Ones\" data-toc-modified-id=\"Ones-2.5\"><span class=\"toc-item-num\">2.5&nbsp;&nbsp;</span>Ones</a></span></li><li><span><a href=\"#Full\" data-toc-modified-id=\"Full-2.6\"><span class=\"toc-item-num\">2.6&nbsp;&nbsp;</span>Full</a></span></li><li><span><a href=\"#Identity-Matrix\" data-toc-modified-id=\"Identity-Matrix-2.7\"><span class=\"toc-item-num\">2.7&nbsp;&nbsp;</span>Identity Matrix</a></span></li><li><span><a href=\"#Diagonal-Matrix\" data-toc-modified-id=\"Diagonal-Matrix-2.8\"><span class=\"toc-item-num\">2.8&nbsp;&nbsp;</span>Diagonal Matrix</a></span></li><li><span><a href=\"#Arange\" data-toc-modified-id=\"Arange-2.9\"><span class=\"toc-item-num\">2.9&nbsp;&nbsp;</span>Arange</a></span></li><li><span><a href=\"#Linspace\" data-toc-modified-id=\"Linspace-2.10\"><span class=\"toc-item-num\">2.10&nbsp;&nbsp;</span>Linspace</a></span></li><li><span><a href=\"#Reshape\" data-toc-modified-id=\"Reshape-2.11\"><span class=\"toc-item-num\">2.11&nbsp;&nbsp;</span>Reshape</a></span></li><li><span><a href=\"#Slicing\" data-toc-modified-id=\"Slicing-2.12\"><span class=\"toc-item-num\">2.12&nbsp;&nbsp;</span>Slicing</a></span></li><li><span><a href=\"#Random\" data-toc-modified-id=\"Random-2.13\"><span class=\"toc-item-num\">2.13&nbsp;&nbsp;</span>Random</a></span></li><li><span><a href=\"#Mutability\" data-toc-modified-id=\"Mutability-2.14\"><span class=\"toc-item-num\">2.14&nbsp;&nbsp;</span>Mutability</a></span></li><li><span><a href=\"#Delete\" data-toc-modified-id=\"Delete-2.15\"><span class=\"toc-item-num\">2.15&nbsp;&nbsp;</span>Delete</a></span></li><li><span><a href=\"#Append\" data-toc-modified-id=\"Append-2.16\"><span class=\"toc-item-num\">2.16&nbsp;&nbsp;</span>Append</a></span></li><li><span><a href=\"#Insert\" data-toc-modified-id=\"Insert-2.17\"><span class=\"toc-item-num\">2.17&nbsp;&nbsp;</span>Insert</a></span></li><li><span><a href=\"#Stacking\" data-toc-modified-id=\"Stacking-2.18\"><span class=\"toc-item-num\">2.18&nbsp;&nbsp;</span>Stacking</a></span></li><li><span><a href=\"#Copy\" data-toc-modified-id=\"Copy-2.19\"><span class=\"toc-item-num\">2.19&nbsp;&nbsp;</span>Copy</a></span></li><li><span><a href=\"#Extract-elements-along-the-diagonal\" data-toc-modified-id=\"Extract-elements-along-the-diagonal-2.20\"><span class=\"toc-item-num\">2.20&nbsp;&nbsp;</span>Extract elements along the diagonal</a></span></li><li><span><a href=\"#Find-Unique-Elements\" data-toc-modified-id=\"Find-Unique-Elements-2.21\"><span class=\"toc-item-num\">2.21&nbsp;&nbsp;</span>Find Unique Elements</a></span></li><li><span><a href=\"#Boolean-Indexing\" data-toc-modified-id=\"Boolean-Indexing-2.22\"><span class=\"toc-item-num\">2.22&nbsp;&nbsp;</span>Boolean Indexing</a></span></li><li><span><a href=\"#Set-Operations\" data-toc-modified-id=\"Set-Operations-2.23\"><span class=\"toc-item-num\">2.23&nbsp;&nbsp;</span>Set Operations</a></span></li><li><span><a href=\"#Sorting\" data-toc-modified-id=\"Sorting-2.24\"><span class=\"toc-item-num\">2.24&nbsp;&nbsp;</span>Sorting</a></span></li><li><span><a href=\"#Math-Functions\" data-toc-modified-id=\"Math-Functions-2.25\"><span class=\"toc-item-num\">2.25&nbsp;&nbsp;</span>Math Functions</a></span></li><li><span><a href=\"#Statistical-Functions\" data-toc-modified-id=\"Statistical-Functions-2.26\"><span class=\"toc-item-num\">2.26&nbsp;&nbsp;</span>Statistical Functions</a></span></li><li><span><a href=\"#Broadcasting\" data-toc-modified-id=\"Broadcasting-2.27\"><span class=\"toc-item-num\">2.27&nbsp;&nbsp;</span>Broadcasting</a>"
   ]
  },
  {
   "cell_type": "markdown",
   "metadata": {},
   "source": [
    "# Numpy"
   ]
  },
  {
   "cell_type": "markdown",
   "metadata": {},
   "source": [
    "- NumPy provides Python with an extensive math library capable of performing numerical computations effectively and efficiently.\n",
    "    - Even though Python lists are great on their own, NumPy has a number of key features that give it great advantages over Python lists. One such feature is speed. When performing operations on large arrays NumPy can often perform several orders of magnitude faster than Python lists. This speed comes from the nature of NumPy arrays being memory-efficient and from optimized algorithms used by NumPy for doing arithmetic, statistical, and linear algebra operations.\n",
    "    - Another great feature of NumPy is that it has multidimensional array data structures that can represent vectors and matrices. Another great advantage of NumPy over Python lists is that NumPy has a large number of optimized built-in mathematical functions. These functions allow you to do a variety of complex mathematical computations very fast and with very little code (avoiding the use of complicated loops) making your programs more readable and easier to understand.\n",
    "- At the core of NumPy is the **ndarray**, where nd stands for n-dimensional.\n",
    "    - An ndarray is a multidimensional array of elements **all of the same type**.\n",
    "    - Unlike Python lists, all the elements of an ndarray must be of the same type. If you provide the np.array() function with a Python list that has both integers and strings, NumPy will interpret all elements as strings.\n",
    "    - When we create an ndarray with both floats and integers, NumPy assigns its elements a float64 dtype. This is called **upcasting**. Since all the elements of an ndarray must be of the same type, in this case NumPy upcasts the integers in z to floats in order to avoid losing precision in numerical computations.\n",
    "- We refer to 1D arrays as rank 1 arrays. In general N-Dimensional arrays have rank N. Therefore, we refer to a 2D array as a rank 2 array."
   ]
  },
  {
   "cell_type": "code",
   "execution_count": null,
   "metadata": {
    "_kg_hide-output": true
   },
   "outputs": [],
   "source": [
    "import numpy as np"
   ]
  },
  {
   "cell_type": "markdown",
   "metadata": {},
   "source": [
    "## Create ndarray"
   ]
  },
  {
   "cell_type": "code",
   "execution_count": null,
   "metadata": {
    "_kg_hide-output": false
   },
   "outputs": [],
   "source": [
    "# Create a 1D ndarray that contains only integers\n",
    "x = np.array([1, 2, 3, 4, 5])\n",
    "print('x = ', x) # x = [1 2 3 4 5]\n",
    "print('x has dimensions:', x.shape) # x has dimensions: (5,)\n",
    "print('The elements in x are of type:', x.dtype) # The elements in x are of type: int64\n",
    "\n",
    "# Create a rank 2 ndarray that only contains integers\n",
    "Y = np.array([[1,2,3],[4,5,6],[7,8,9], [10,11,12]])\n",
    "print('Y has dimensions:', Y.shape) # Y has dimensions: (4, 3)\n",
    "print('Y has a total of', Y.size, 'elements') # Y has a total of 12 elements\n",
    "print('Y is an object of type:', type(Y)) # Y is an object of type: class 'numpy.ndarray'\n",
    "print('The elements in Y are of type:', Y.dtype) # The elements in Y are of type: int64"
   ]
  },
  {
   "cell_type": "markdown",
   "metadata": {},
   "source": [
    "## Create ndarray with dtype"
   ]
  },
  {
   "cell_type": "code",
   "execution_count": null,
   "metadata": {
    "_kg_hide-output": false
   },
   "outputs": [],
   "source": [
    "# Specify the dtype when creating the ndarray\n",
    "x = np.array([1.5, 2.2, 3.7, 4.0, 5.9], dtype = np.int64)"
   ]
  },
  {
   "cell_type": "markdown",
   "metadata": {},
   "source": [
    "## Save and load"
   ]
  },
  {
   "cell_type": "code",
   "execution_count": null,
   "metadata": {
    "_kg_hide-output": false
   },
   "outputs": [],
   "source": [
    "# Save the array into a file\n",
    "np.save('my_array', x)\n",
    "\n",
    "# Load the saved array from current directory\n",
    "y = np.load('my_array.npy')"
   ]
  },
  {
   "cell_type": "markdown",
   "metadata": {},
   "source": [
    "## Zeros"
   ]
  },
  {
   "cell_type": "code",
   "execution_count": null,
   "metadata": {
    "_kg_hide-output": false
   },
   "outputs": [],
   "source": [
    "# Create ndarray using built-in functions\n",
    "# 3 x 4 ndarray full of zeros\n",
    "# np.zeros(shape)\n",
    "X = np.zeros((3,4))"
   ]
  },
  {
   "cell_type": "markdown",
   "metadata": {},
   "source": [
    "## Ones"
   ]
  },
  {
   "cell_type": "code",
   "execution_count": null,
   "metadata": {
    "_kg_hide-output": false
   },
   "outputs": [],
   "source": [
    "# a 3 x 2 ndarray full of ones\n",
    "# np.ones(shape)\n",
    "X = np.ones((3,2))"
   ]
  },
  {
   "cell_type": "markdown",
   "metadata": {},
   "source": [
    "## Full"
   ]
  },
  {
   "cell_type": "code",
   "execution_count": null,
   "metadata": {
    "_kg_hide-output": false
   },
   "outputs": [],
   "source": [
    "# 2 x 3 ndarray full of fives\n",
    "# np.full(shape, constant value)\n",
    "X = np.full((2,3), 5)"
   ]
  },
  {
   "cell_type": "markdown",
   "metadata": {},
   "source": [
    "## Identity Matrix"
   ]
  },
  {
   "cell_type": "code",
   "execution_count": null,
   "metadata": {
    "_kg_hide-output": false
   },
   "outputs": [],
   "source": [
    "# Identity Matrix\n",
    "# Since all Identity Matrices are square, the np.eye() function only takes a single integer as an argument\n",
    "# 5 x 5 Identity matrix\n",
    "X = np.eye(5)"
   ]
  },
  {
   "cell_type": "markdown",
   "metadata": {},
   "source": [
    "## Diagonal Matrix"
   ]
  },
  {
   "cell_type": "code",
   "execution_count": null,
   "metadata": {
    "_kg_hide-output": false
   },
   "outputs": [],
   "source": [
    "# Diagonal Matrix\n",
    "# 4 x 4 diagonal matrix that contains the numbers 10,20,30, and 50 on its main diagonal\n",
    "X = np.diag([10,20,30,50])"
   ]
  },
  {
   "cell_type": "markdown",
   "metadata": {},
   "source": [
    "## Arange"
   ]
  },
  {
   "cell_type": "code",
   "execution_count": null,
   "metadata": {
    "_kg_hide-output": false
   },
   "outputs": [],
   "source": [
    "# Arange\n",
    "# rank 1 ndarray that has sequential integers from 0 to 9\n",
    "# x = [0 1 2 3 4 5 6 7 8 9]\n",
    "x = np.arange(10)\n",
    "\n",
    "# rank 1 ndarray that has sequential integers from 4 to 9\n",
    "# [start, stop)\n",
    "# x = [4 5 6 7 8 9]\n",
    "x = np.arange(4,10)\n",
    "\n",
    "# rank 1 ndarray that has evenly spaced integers from 1 to 13 in steps of 3.\n",
    "# np.arange(start,stop,step)\n",
    "# x = [ 1 4 7 10 13]\n",
    "x = np.arange(1,14,3)"
   ]
  },
  {
   "cell_type": "markdown",
   "metadata": {},
   "source": [
    "## Linspace"
   ]
  },
  {
   "cell_type": "code",
   "execution_count": null,
   "metadata": {
    "_kg_hide-output": false
   },
   "outputs": [],
   "source": [
    "# Linspace\n",
    "# Even though the np.arange() function allows for non-integer steps,\n",
    "# such as 0.3, the output is usually inconsistent, due to the finite\n",
    "# floating point precision. For this reason, in the cases where\n",
    "# non-integer steps are required, it is usually better to use linspace()\n",
    "# becayse np.linspace() uses the number of elements we want in a\n",
    "# particular interval, instead of the step between values.\n",
    "# linspace returns N evenly spaced numbers over the closed interval [start, stop]\n",
    "# np.linspace(start, stop, N)\n",
    "# x = [ 0. 2.77777778 5.55555556 8.33333333 11.11111111 13.88888889 16.66666667 19.44444444 22.22222222 25. ]\n",
    "x = np.linspace(0,25,10)"
   ]
  },
  {
   "cell_type": "markdown",
   "metadata": {},
   "source": [
    "## Reshape"
   ]
  },
  {
   "cell_type": "code",
   "execution_count": null,
   "metadata": {
    "_kg_hide-output": false
   },
   "outputs": [],
   "source": [
    "# Reshape\n",
    "# np.reshape(ndarray, new_shape)\n",
    "# converts the given ndarray into the specified new_shape\n",
    "x = np.arange(20)\n",
    "x = np.reshape(x, (4,5))\n",
    "# or\n",
    "x = np.arange(20).reshape(4, 5) # does the same thing as above\n",
    "# and the same thing with with linshape\n",
    "y = np.linspace(0,50,10, endpoint=False).reshape(5,2)\n",
    "# One great feature about NumPy, is that some functions can also be\n",
    "# applied as methods. This allows us to apply different functions in\n",
    "# sequence in just one line of code"
   ]
  },
  {
   "cell_type": "markdown",
   "metadata": {},
   "source": [
    "## Slicing"
   ]
  },
  {
   "cell_type": "code",
   "execution_count": null,
   "metadata": {
    "_kg_hide-output": false
   },
   "outputs": [],
   "source": [
    "# Slicing\n",
    "# ndarray[start:end]\n",
    "# ndarray[start:]\n",
    "# ndarray[:end]\n",
    "# ndarray[<start>:<stop>:<step>]\n",
    "\n",
    "# In methods one and three, the end index is excluded [,)\n",
    "X = np.arange(20).reshape(4, 5)\n",
    "\n",
    "# select all the elements that are in the 2nd through 4th rows and in the 3rd to 5th columns\n",
    "Z = X[1:4,2:5]\n",
    "# or\n",
    "Z = X[1:,2:5]\n",
    "\n",
    "# elements = a_list[<start>:<stop>:<step>]\n",
    "# select all the elements in the 3rd row\n",
    "v = X[2,:] # v = [10 11 12 13 14]\n",
    "# select all the elements in the 3rd column\n",
    "q = X[:,2] # q = [ 2 7 12 17]\n",
    "# select all the elements in the 3rd column but return a rank 2 ndarray\n",
    "R = X[:,2:3]\n",
    "'''\n",
    "[[ 2]\n",
    " [ 7]\n",
    " [12]\n",
    " [17]]\n",
    "'''\n",
    "# Note: Slicing creates a view, not a copy\n",
    "# when we make assignments, such as: Z = X[1:4,2:5]\n",
    "# the slice of the original array X is not copied in the variable Z.\n",
    "# Rather, X and Z are now just two different names for the same ndarray.\n",
    "# We say that slicing only creates a view of the original array.\n",
    "# This means if we make changes to Z, X changes as well."
   ]
  },
  {
   "cell_type": "markdown",
   "metadata": {},
   "source": [
    "## Random"
   ]
  },
  {
   "cell_type": "code",
   "execution_count": null,
   "metadata": {
    "_kg_hide-output": false
   },
   "outputs": [],
   "source": [
    "# Random\n",
    "# 3 x 3 ndarray with random floats in the half-open interval [0.0, 1.0).\n",
    "# np.random.random(shape)\n",
    "X = np.random.random((3,3))\n",
    "# np.random.randint(start, stop, size = shape)\n",
    "# [start, stop)\n",
    "X = np.random.randint(4,15,size=(3,2))\n",
    "\n",
    "# create ndarrays with random numbers that satisfy certain statistical properties\n",
    "# 1000 x 1000 ndarray of random floats drawn from normal (Gaussian)\n",
    "# distribution with a mean of zero and a standard deviation of 0.1.\n",
    "# np.random.normal(mean, standard deviation, size=shape)\n",
    "X = np.random.normal(0, 0.1, size=(1000,1000))"
   ]
  },
  {
   "cell_type": "markdown",
   "metadata": {},
   "source": [
    "## Mutability"
   ]
  },
  {
   "cell_type": "code",
   "execution_count": null,
   "metadata": {
    "_kg_hide-output": false
   },
   "outputs": [],
   "source": [
    "# Mutability\n",
    "# Change ndarray\n",
    "x[3] = 20\n",
    "X[0,0] = 20"
   ]
  },
  {
   "cell_type": "markdown",
   "metadata": {},
   "source": [
    "## Delete"
   ]
  },
  {
   "cell_type": "code",
   "execution_count": null,
   "metadata": {
    "_kg_hide-output": false
   },
   "outputs": [],
   "source": [
    "# Delete\n",
    "# np.delete(ndarray, elements, axis)\n",
    "x = np.array([1, 2, 3, 4, 5])\n",
    "# delete the first and fifth element of x\n",
    "x = np.delete(x, [0,4])\n",
    "\n",
    "Y = np.array([[1,2,3],[4,5,6],[7,8,9]])\n",
    "# delete the first row of Y\n",
    "w = np.delete(Y, 0, axis=0)\n",
    "# delete the first and last column of Y\n",
    "v = np.delete(Y, [0,2], axis=1)"
   ]
  },
  {
   "cell_type": "markdown",
   "metadata": {},
   "source": [
    "## Append"
   ]
  },
  {
   "cell_type": "code",
   "execution_count": null,
   "metadata": {
    "_kg_hide-output": false
   },
   "outputs": [],
   "source": [
    "# Append\n",
    "# np.append(ndarray, elements, axis)\n",
    "# append the integer 6 to x\n",
    "x = np.append(x, 6)\n",
    "# append the integer 7 and 8 to x\n",
    "x = np.append(x, [7,8])\n",
    "# append a new row containing 7,8,9 to y\n",
    "v = np.append(Y, [[10,11,12]], axis=0)\n",
    "# append a new column containing 9 and 10 to y\n",
    "q = np.append(Y,[[13],[14],[15]], axis=1)"
   ]
  },
  {
   "cell_type": "markdown",
   "metadata": {},
   "source": [
    "## Insert"
   ]
  },
  {
   "cell_type": "code",
   "execution_count": null,
   "metadata": {
    "_kg_hide-output": false
   },
   "outputs": [],
   "source": [
    "# Insert\n",
    "# np.insert(ndarray, index, elements, axis)\n",
    "# inserts the given list of elements to ndarray right before\n",
    "# the given index along the specified axis\n",
    "x = np.array([1, 2, 5, 6, 7])\n",
    "Y = np.array([[1,2,3],[7,8,9]])\n",
    "# insert the integer 3 and 4 between 2 and 5 in x. \n",
    "x = np.insert(x,2,[3,4])\n",
    "# insert a row between the first and last row of Y\n",
    "w = np.insert(Y,1,[4,5,6],axis=0)\n",
    "# insert a column full of 5s between the first and second column of Y\n",
    "v = np.insert(Y,1,5, axis=1)"
   ]
  },
  {
   "cell_type": "markdown",
   "metadata": {},
   "source": [
    "## Stacking"
   ]
  },
  {
   "cell_type": "code",
   "execution_count": null,
   "metadata": {
    "_kg_hide-output": false
   },
   "outputs": [],
   "source": [
    "# Stacking\n",
    "# NumPy also allows us to stack ndarrays on top of each other,\n",
    "# or to stack them side by side. The stacking is done using either\n",
    "# the np.vstack() function for vertical stacking, or the np.hstack()\n",
    "# function for horizontal stacking. It is important to note that in\n",
    "# order to stack ndarrays, the shape of the ndarrays must match.\n",
    "x = np.array([1,2])\n",
    "Y = np.array([[3,4],[5,6]])\n",
    "z = np.vstack((x,Y)) # [[1,2], [3,4], [5,6]]\n",
    "w = np.hstack((Y,x.reshape(2,1))) # [[3,4,1], [5,6,2]]"
   ]
  },
  {
   "cell_type": "markdown",
   "metadata": {},
   "source": [
    "## Copy"
   ]
  },
  {
   "cell_type": "code",
   "execution_count": null,
   "metadata": {
    "_kg_hide-output": false
   },
   "outputs": [],
   "source": [
    "# Copy\n",
    "# if we want to create a new ndarray that contains a copy of the\n",
    "# values in the slice we need to use the np.copy()\n",
    "# create a copy of the slice using the np.copy() function\n",
    "Z = np.copy(X[1:4,2:5])\n",
    "#  create a copy of the slice using the copy as a method\n",
    "W = X[1:4,2:5].copy()"
   ]
  },
  {
   "cell_type": "markdown",
   "metadata": {},
   "source": [
    "## Extract elements along the diagonal"
   ]
  },
  {
   "cell_type": "code",
   "execution_count": null,
   "metadata": {
    "_kg_hide-output": false
   },
   "outputs": [],
   "source": [
    "# Extract elements along the diagonal\n",
    "d0 = np.diag(X)\n",
    "# As default is k=0, which refers to the main diagonal.\n",
    "# Values of k > 0 are used to select elements in diagonals above\n",
    "# the main diagonal, and values of k < 0 are used to select elements\n",
    "# in diagonals below the main diagonal.\n",
    "d1 = np.diag(X, k=1)\n",
    "d2 = np.diag(X, k=-1)"
   ]
  },
  {
   "cell_type": "markdown",
   "metadata": {},
   "source": [
    "## Find Unique Elements"
   ]
  },
  {
   "cell_type": "code",
   "execution_count": null,
   "metadata": {},
   "outputs": [],
   "source": [
    "# Find Unique Elements in ndarray\n",
    "u = np.unique(X)"
   ]
  },
  {
   "cell_type": "markdown",
   "metadata": {},
   "source": [
    "## Boolean Indexing"
   ]
  },
  {
   "cell_type": "code",
   "execution_count": null,
   "metadata": {},
   "outputs": [],
   "source": [
    "# Boolean Indexing\n",
    "X = np.arange(25).reshape(5, 5)\n",
    "print('The elements in X that are greater than 10:', X[X > 10])\n",
    "print('The elements in X that less than or equal to 7:', X[X <= 7])\n",
    "print('The elements in X that are between 10 and 17:', X[(X > 10) & (X < 17)])\n",
    "\n",
    "# use Boolean indexing to assign the elements that\n",
    "# are between 10 and 17 the value of -1\n",
    "X[(X > 10) & (X < 17)] = -1"
   ]
  },
  {
   "cell_type": "markdown",
   "metadata": {},
   "source": [
    "## Set Operations"
   ]
  },
  {
   "cell_type": "code",
   "execution_count": null,
   "metadata": {},
   "outputs": [],
   "source": [
    "# Set Operations\n",
    "x = np.array([1,2,3,4,5])\n",
    "y = np.array([6,7,2,8,4])\n",
    "print('The elements that are both in x and y:', np.intersect1d(x,y))\n",
    "print('The elements that are in x that are not in y:', np.setdiff1d(x,y))\n",
    "print('All the elements of x and y:',np.union1d(x,y))"
   ]
  },
  {
   "cell_type": "markdown",
   "metadata": {},
   "source": [
    "## Sorting"
   ]
  },
  {
   "cell_type": "code",
   "execution_count": null,
   "metadata": {},
   "outputs": [],
   "source": [
    "# Sorting\n",
    "# When used as a function, it doesn't change the original ndarray\n",
    "s = np.sort(x)\n",
    "# When used as a method, the original array will be sorted\n",
    "x.sort()\n",
    "\n",
    "# sort x but only keep the unique elements in x\n",
    "s = np.sort(np.unique(x))\n",
    "\n",
    "# sort the columns of X\n",
    "s = np.sort(X, axis = 0)\n",
    "\n",
    "# sort the rows of X\n",
    "s = np.sort(X, axis = 1)"
   ]
  },
  {
   "cell_type": "markdown",
   "metadata": {},
   "source": [
    "## Math Functions"
   ]
  },
  {
   "cell_type": "code",
   "execution_count": null,
   "metadata": {},
   "outputs": [],
   "source": [
    "# NumPy allows element-wise operations on ndarrays as well as\n",
    "# matrix operations. In order to do element-wise operations,\n",
    "# NumPy sometimes uses something called Broadcasting.\n",
    "# Broadcasting is the term used to describe how NumPy handles\n",
    "# element-wise arithmetic operations with ndarrays of different shapes.\n",
    "# For example, broadcasting is used implicitly when doing arithmetic\n",
    "# operations between scalars and ndarrays.\n",
    "x = np.array([1,2,3,4])\n",
    "y = np.array([5.5,6.5,7.5,8.5])\n",
    "np.add(x,y)\n",
    "np.subtract(x,y)\n",
    "np.multiply(x,y)\n",
    "np.divide(x,y)\n",
    "\n",
    "# in order to do these operations the shapes of the ndarrays\n",
    "# being operated on, must have the same shape or be broadcastable\n",
    "X = np.array([1,2,3,4]).reshape(2,2)\n",
    "Y = np.array([5.5,6.5,7.5,8.5]).reshape(2,2)\n",
    "np.add(X,Y)\n",
    "np.subtract(X,Y)\n",
    "np.multiply(X,Y)\n",
    "np.divide(X,Y)\n",
    "\n",
    "# apply mathematical functions to all elements of an ndarray at once\n",
    "np.exp(x)\n",
    "np.sqrt(x)\n",
    "np.power(x,2)"
   ]
  },
  {
   "cell_type": "markdown",
   "metadata": {},
   "source": [
    "## Statistical Functions"
   ]
  },
  {
   "cell_type": "code",
   "execution_count": null,
   "metadata": {},
   "outputs": [],
   "source": [
    "# Statistical Functions\n",
    "print('Average of all elements in X:', X.mean())\n",
    "print('Average of all elements in the columns of X:', X.mean(axis=0))\n",
    "print('Average of all elements in the rows of X:', X.mean(axis=1))\n",
    "print()\n",
    "print('Sum of all elements in X:', X.sum())\n",
    "print('Standard Deviation of all elements in X:', X.std())\n",
    "print('Median of all elements in X:', np.median(X))\n",
    "print('Maximum value of all elements in X:', X.max())\n",
    "print('Minimum value of all elements in X:', X.min())"
   ]
  },
  {
   "cell_type": "markdown",
   "metadata": {},
   "source": [
    "## Broadcasting"
   ]
  },
  {
   "cell_type": "code",
   "execution_count": null,
   "metadata": {},
   "outputs": [],
   "source": [
    "# Broadcasting\n",
    "# NumPy is working behind the scenes to broadcast 3 along the ndarray\n",
    "# so that they have the same shape. This allows us to add 3 to each\n",
    "# element of X with just one line of code.\n",
    "print(4*X)\n",
    "print(4+X)\n",
    "print(4-X)\n",
    "print(4/X)\n",
    "# NumPy is able to add 1 x 3 and 3 x 1 ndarrays to 3 x 3 ndarrays\n",
    "# by broadcasting the smaller ndarrays along the big ndarray so that\n",
    "# they have compatible shapes. In general, NumPy can do this provided\n",
    "# that the smaller ndarray can be expanded to the shape of the larger\n",
    "# ndarray in such a way that the resulting broadcast is unambiguous.\n",
    "x = np.array([1,2,3])\n",
    "Y = np.array([[1,2,3],[4,5,6],[7,8,9]])\n",
    "Z = np.array([1,2,3]).reshape(3,1)\n",
    "print(x + Y)\n",
    "print(Z + Y)"
   ]
  }
 ],
 "metadata": {
  "kernelspec": {
   "display_name": "Python 3 (ipykernel)",
   "language": "python",
   "name": "python3"
  },
  "language_info": {
   "codemirror_mode": {
    "name": "ipython",
    "version": 3
   },
   "file_extension": ".py",
   "mimetype": "text/x-python",
   "name": "python",
   "nbconvert_exporter": "python",
   "pygments_lexer": "ipython3",
   "version": "3.9.7"
  },
  "toc": {
   "base_numbering": 1,
   "nav_menu": {},
   "number_sections": true,
   "sideBar": true,
   "skip_h1_title": false,
   "title_cell": "Table of Contents",
   "title_sidebar": "Contents",
   "toc_cell": false,
   "toc_position": {
    "height": "calc(100% - 180px)",
    "left": "10px",
    "top": "150px",
    "width": "230px"
   },
   "toc_section_display": true,
   "toc_window_display": true
  }
 },
 "nbformat": 4,
 "nbformat_minor": 4
}
