{
 "cells": [
  {
   "cell_type": "markdown",
   "metadata": {
    "tags": []
   },
   "source": [
    "# Python Cheat Sheets\n",
    "\n",
    "<h2>Table of Contents<span class=\"tocSkip\"></span></h2>\n",
    "<div class=\"toc\"><ul class=\"toc-item\"><li><span><a href=\"#Data-Structures\" data-toc-modified-id=\"Data-Structures-1\"><span class=\"toc-item-num\">1&nbsp;&nbsp;</span>Data Structures</a></span><ul class=\"toc-item\"><li><span><a href=\"#Lists[]\" data-toc-modified-id=\"Lists[]-1.1\"><span class=\"toc-item-num\">1.1&nbsp;&nbsp;</span>Lists[]</a></span><ul class=\"toc-item\"><li><span><a href=\"#List-Comprehensions---(do..-for)\" data-toc-modified-id=\"List-Comprehensions---(do..-for)-1.1.1\"><span class=\"toc-item-num\">1.1.1&nbsp;&nbsp;</span>List Comprehensions - (do.. for)</a></span></li><li><span><a href=\"#adding-conditionals-(do..-for..-if)\" data-toc-modified-id=\"adding-conditionals-(do..-for..-if)-1.1.2\"><span class=\"toc-item-num\">1.1.2&nbsp;&nbsp;</span>adding conditionals (do.. for.. if)</a></span></li><li><span><a href=\"#examples\" data-toc-modified-id=\"examples-1.1.3\"><span class=\"toc-item-num\">1.1.3&nbsp;&nbsp;</span>examples</a></span></li><li><span><a href=\"#Lambda-Functions\" data-toc-modified-id=\"Lambda-Functions-1.1.4\"><span class=\"toc-item-num\">1.1.4&nbsp;&nbsp;</span>Lambda Functions</a></span></li><li><span><a href=\"#map()---apply-lambda-function-to-a-list\" data-toc-modified-id=\"map()---apply-lambda-function-to-a-list-1.1.5\"><span class=\"toc-item-num\">1.1.5&nbsp;&nbsp;</span>map() - apply lambda function to a list</a></span></li><li><span><a href=\"#filter()---apply-lambda-function-to-a-list\" data-toc-modified-id=\"filter()---apply-lambda-function-to-a-list-1.1.6\"><span class=\"toc-item-num\">1.1.6&nbsp;&nbsp;</span>filter() - apply lambda function to a list</a></span></li><li><span><a href=\"#Generators\" data-toc-modified-id=\"Generators-1.1.7\"><span class=\"toc-item-num\">1.1.7&nbsp;&nbsp;</span>Generators</a></span></li><li><span><a href=\"#create-list\" data-toc-modified-id=\"create-list-1.1.8\"><span class=\"toc-item-num\">1.1.8&nbsp;&nbsp;</span>create list</a></span></li><li><span><a href=\"#access-list-elements\" data-toc-modified-id=\"access-list-elements-1.1.9\"><span class=\"toc-item-num\">1.1.9&nbsp;&nbsp;</span>access list elements</a></span></li><li><span><a href=\"#slicing-[,)\" data-toc-modified-id=\"slicing-[,)-1.1.10\"><span class=\"toc-item-num\">1.1.10&nbsp;&nbsp;</span>slicing [,)</a></span></li><li><span><a href=\"#in,-not-in\" data-toc-modified-id=\"in,-not-in-1.1.11\"><span class=\"toc-item-num\">1.1.11&nbsp;&nbsp;</span>in, not in</a></span></li><li><span><a href=\"#Mutable-and-ordered\" data-toc-modified-id=\"Mutable-and-ordered-1.1.12\"><span class=\"toc-item-num\">1.1.12&nbsp;&nbsp;</span>Mutable and ordered</a></span></li><li><span><a href=\"#length-of-list\" data-toc-modified-id=\"length-of-list-1.1.13\"><span class=\"toc-item-num\">1.1.13&nbsp;&nbsp;</span>length of list</a></span></li><li><span><a href=\"#smallest-and-greatest-element-in-list\" data-toc-modified-id=\"smallest-and-greatest-element-in-list-1.1.14\"><span class=\"toc-item-num\">1.1.14&nbsp;&nbsp;</span>smallest and greatest element in list</a></span></li><li><span><a href=\"#sort-list\" data-toc-modified-id=\"sort-list-1.1.15\"><span class=\"toc-item-num\">1.1.15&nbsp;&nbsp;</span>sort list</a></span></li><li><span><a href=\"#join()\" data-toc-modified-id=\"join()-1.1.16\"><span class=\"toc-item-num\">1.1.16&nbsp;&nbsp;</span>join()</a></span></li><li><span><a href=\"#Creating-a-new-list\" data-toc-modified-id=\"Creating-a-new-list-1.1.17\"><span class=\"toc-item-num\">1.1.17&nbsp;&nbsp;</span>Creating a new list</a></span></li><li><span><a href=\"#Adding-an-element-to-the-end-of-a-list---append()\" data-toc-modified-id=\"Adding-an-element-to-the-end-of-a-list---append()-1.1.18\"><span class=\"toc-item-num\">1.1.18&nbsp;&nbsp;</span>Adding an element to the end of a list - append()</a></span></li><li><span><a href=\"#Modifying-a-new-list\" data-toc-modified-id=\"Modifying-a-new-list-1.1.19\"><span class=\"toc-item-num\">1.1.19&nbsp;&nbsp;</span>Modifying a new list</a></span></li><li><span><a href=\"#Print-a-formatted-string-from-parameters-in-list\" data-toc-modified-id=\"Print-a-formatted-string-from-parameters-in-list-1.1.20\"><span class=\"toc-item-num\">1.1.20&nbsp;&nbsp;</span>Print a formatted string from parameters in list</a></span></li><li><span><a href=\"#Convert-an-iterable-(tuple,-string,-set,-dictionary)-to-a-list---list()\" data-toc-modified-id=\"Convert-an-iterable-(tuple,-string,-set,-dictionary)-to-a-list---list()-1.1.21\"><span class=\"toc-item-num\">1.1.21&nbsp;&nbsp;</span>Convert an iterable (tuple, string, set, dictionary) to a list - list()</a></span></li></ul></li><li><span><a href=\"#Tuples()\" data-toc-modified-id=\"Tuples()-1.2\"><span class=\"toc-item-num\">1.2&nbsp;&nbsp;</span>Tuples()</a></span><ul class=\"toc-item\"><li><span><a href=\"#create-tuple\" data-toc-modified-id=\"create-tuple-1.2.1\"><span class=\"toc-item-num\">1.2.1&nbsp;&nbsp;</span>create tuple</a></span></li><li><span><a href=\"#access-tuple\" data-toc-modified-id=\"access-tuple-1.2.2\"><span class=\"toc-item-num\">1.2.2&nbsp;&nbsp;</span>access tuple</a></span></li><li><span><a href=\"#tuple-packing\" data-toc-modified-id=\"tuple-packing-1.2.3\"><span class=\"toc-item-num\">1.2.3&nbsp;&nbsp;</span>tuple packing</a></span></li><li><span><a href=\"#tuple-unpacking\" data-toc-modified-id=\"tuple-unpacking-1.2.4\"><span class=\"toc-item-num\">1.2.4&nbsp;&nbsp;</span>tuple unpacking</a></span></li></ul></li><li><span><a href=\"#Sets{}\" data-toc-modified-id=\"Sets{}-1.3\"><span class=\"toc-item-num\">1.3&nbsp;&nbsp;</span>Sets{}</a></span><ul class=\"toc-item\"><li><span><a href=\"#create-sets\" data-toc-modified-id=\"create-sets-1.3.1\"><span class=\"toc-item-num\">1.3.1&nbsp;&nbsp;</span>create sets</a></span></li><li><span><a href=\"#check-for-element\" data-toc-modified-id=\"check-for-element-1.3.2\"><span class=\"toc-item-num\">1.3.2&nbsp;&nbsp;</span>check for element</a></span></li><li><span><a href=\"#add-an-element\" data-toc-modified-id=\"add-an-element-1.3.3\"><span class=\"toc-item-num\">1.3.3&nbsp;&nbsp;</span>add an element</a></span></li><li><span><a href=\"#remove-a-random-element\" data-toc-modified-id=\"remove-a-random-element-1.3.4\"><span class=\"toc-item-num\">1.3.4&nbsp;&nbsp;</span>remove a random element</a></span></li></ul></li><li><span><a href=\"#Dicts{}\" data-toc-modified-id=\"Dicts{}-1.4\"><span class=\"toc-item-num\">1.4&nbsp;&nbsp;</span>Dicts{}</a></span><ul class=\"toc-item\"><li><span><a href=\"#create-dict\" data-toc-modified-id=\"create-dict-1.4.1\"><span class=\"toc-item-num\">1.4.1&nbsp;&nbsp;</span>create dict</a></span></li><li><span><a href=\"#accessing-an-element's-value\" data-toc-modified-id=\"accessing-an-element's-value-1.4.2\"><span class=\"toc-item-num\">1.4.2&nbsp;&nbsp;</span>accessing an element's value</a></span></li><li><span><a href=\"#adding-elements\" data-toc-modified-id=\"adding-elements-1.4.3\"><span class=\"toc-item-num\">1.4.3&nbsp;&nbsp;</span>adding elements</a></span></li><li><span><a href=\"#Iterating-through-a-dictionary\" data-toc-modified-id=\"Iterating-through-a-dictionary-1.4.4\"><span class=\"toc-item-num\">1.4.4&nbsp;&nbsp;</span>Iterating through a dictionary</a></span></li><li><span><a href=\"#check-whether-a-value-is-in-a-dictionary\" data-toc-modified-id=\"check-whether-a-value-is-in-a-dictionary-1.4.5\"><span class=\"toc-item-num\">1.4.5&nbsp;&nbsp;</span>check whether a value is in a dictionary</a></span></li><li><span><a href=\"#get()-looks-up-values-in-a-dictionary\" data-toc-modified-id=\"get()-looks-up-values-in-a-dictionary-1.4.6\"><span class=\"toc-item-num\">1.4.6&nbsp;&nbsp;</span>get() looks up values in a dictionary</a></span></li><li><span><a href=\"#Identity-Operators\" data-toc-modified-id=\"Identity-Operators-1.4.7\"><span class=\"toc-item-num\">1.4.7&nbsp;&nbsp;</span>Identity Operators</a></span></li><li><span><a href=\"#Equality-(==)-and-identity-(is)\" data-toc-modified-id=\"Equality-(==)-and-identity-(is)-1.4.8\"><span class=\"toc-item-num\">1.4.8&nbsp;&nbsp;</span>Equality (==) and identity (is)</a></span></li><li><span><a href=\"#Compound-Data-Structures\" data-toc-modified-id=\"Compound-Data-Structures-1.4.9\"><span class=\"toc-item-num\">1.4.9&nbsp;&nbsp;</span>Compound Data Structures</a></span></li><li><span><a href=\"#Dict-frequency-counter\" data-toc-modified-id=\"Dict-frequency-counter-1.4.10\"><span class=\"toc-item-num\">1.4.10&nbsp;&nbsp;</span>Dict frequency counter</a></span></li></ul></li></ul>"
   ]
  },
  {
   "cell_type": "markdown",
   "metadata": {},
   "source": [
    "# Data Structures"
   ]
  },
  {
   "cell_type": "markdown",
   "metadata": {},
   "source": [
    "There are two things to keep in mind for each of the data types you are using:\n",
    "\n",
    "1. Are they **mutable**?\n",
    "    - Mutability is about whether or not we can change an object once it has been created. A list can be changed so it is mutable. However, strings cannot be changed without creating a completely new object, so they are immutable.\n",
    "2. Are they **ordered**?\n",
    "    - Order is about whether the order of the elements in an object matters, and whether this position of an element can be used to access the element. Both strings and lists are ordered. We can use the order to access parts of a list and string.\n",
    "- For each of the upcoming data structures you see, it is useful to understand how you index, are they mutable, and are they ordered.\n",
    "- Additionally, you will see how these each have different methods, so why you would use one data structure vs. another is largely dependent on these properties, and what you can easily do with it!"
   ]
  },
  {
   "cell_type": "markdown",
   "metadata": {},
   "source": [
    "## Lists[]\n",
    "**mutable, ordered sequence of elements.**\n",
    "- Mix of data types.\n",
    "- Are ordered - can lookup elements by index.\n",
    "- Are mutable - can be changed."
   ]
  },
  {
   "cell_type": "markdown",
   "metadata": {},
   "source": [
    "### List Comprehensions - (do.. for)"
   ]
  },
  {
   "cell_type": "code",
   "execution_count": null,
   "metadata": {
    "_kg_hide-output": true
   },
   "outputs": [],
   "source": [
    "names = ['dumbledore', 'beeblebrox', 'skywalker', 'hermione', 'leia']\n",
    "capitalized_names = []\n",
    "for name in names:\n",
    "    capitalized_names.append(name.title())\n",
    "\n",
    "# equals (do.. for)\n",
    "capitalized_names = [name.title() for name in names]\n",
    "capitalized_names"
   ]
  },
  {
   "cell_type": "markdown",
   "metadata": {},
   "source": [
    "### adding conditionals (do.. for.. if)"
   ]
  },
  {
   "cell_type": "code",
   "execution_count": null,
   "metadata": {},
   "outputs": [],
   "source": [
    "squares = [x**2 for x in range(9) if x % 2 == 0]\n",
    "# to add else statements, move the conditionals to the beginning\n",
    "squares = [x**2 if x % 2 == 0 else x + 3 for x in range(9)]"
   ]
  },
  {
   "cell_type": "markdown",
   "metadata": {},
   "source": [
    "### examples"
   ]
  },
  {
   "cell_type": "code",
   "execution_count": null,
   "metadata": {},
   "outputs": [],
   "source": [
    "# example\n",
    "names = [\"Rick S\", \"Morty Smith\", \"Summer Smith\", \"Jerry Smith\", \"Beth Smith\"]\n",
    "first_names = [name.split(' ')[0] for name in names]\n",
    "print(first_names)\n",
    "# ['Rick', 'Morty', 'Summer', 'Jerry', 'Beth']\n",
    "\n",
    "# example\n",
    "multiples_3 = [i*3 for i in range(1,21)]\n",
    "print(multiples_3)\n",
    "# [3, 6, 9, 12, 15, 18, 21, 24, 27, 30, 33, 36, 39, 42, 45, 48, 51, 54, 57, 60]\n",
    "\n",
    "# example\n",
    "scores = {\n",
    "             \"Rick\": 70,\n",
    "             \"Morty Smith\": 35,\n",
    "             \"Summer Smith\": 82,\n",
    "             \"Jerry Smith\": 23,\n",
    "             \"Beth Smith\": 98\n",
    "          }\n",
    "passed = [name for name, score in scores.items() if score>=65]\n",
    "print(passed)\n",
    "# ['Rick', 'Summer Smith', 'Beth Smith']"
   ]
  },
  {
   "cell_type": "markdown",
   "metadata": {},
   "source": [
    "### Lambda Functions"
   ]
  },
  {
   "cell_type": "code",
   "execution_count": null,
   "metadata": {},
   "outputs": [],
   "source": [
    "# Lambda Functions - lambda (arg1, arg2): do_a_thing_and_return_it\n",
    "multiply = lambda x, y: x * y\n",
    "\n",
    "# Equivalent of:\n",
    "def multiply(x, y):\n",
    "    return x * y\n",
    "\n",
    "# Can call both of the above like:\n",
    "multiply(4, 7)"
   ]
  },
  {
   "cell_type": "markdown",
   "metadata": {},
   "source": [
    "### map() - apply lambda function to a list"
   ]
  },
  {
   "cell_type": "code",
   "execution_count": null,
   "metadata": {},
   "outputs": [],
   "source": [
    "# example of using map() to apply lambda function to a list\n",
    "numbers = [\n",
    "              [34, 63, 88, 71, 29],\n",
    "              [90, 78, 51, 27, 45],\n",
    "              [63, 37, 85, 46, 22],\n",
    "              [51, 22, 34, 11, 18]\n",
    "           ]\n",
    "mean = lambda num_list: sum(num_list)/len(num_list)\n",
    "averages = list(map(mean, numbers))\n",
    "# or\n",
    "averages = list(map(lambda num_list: sum(num_list)/len(num_list), numbers))\n",
    "print(averages)\n",
    "# [57.0, 58.2, 50.6, 27.2]"
   ]
  },
  {
   "cell_type": "markdown",
   "metadata": {},
   "source": [
    "### filter() - apply lambda function to a list"
   ]
  },
  {
   "cell_type": "code",
   "execution_count": null,
   "metadata": {},
   "outputs": [],
   "source": [
    "# example of using filter() to apply lambda function to a list\n",
    "cities = [\"New York City\", \"Los Angeles\", \"Chicago\", \"Mountain View\", \"Denver\", \"Boston\"]\n",
    "is_short = lambda name: len(name) < 10\n",
    "short_cities = list(filter(is_short, cities))\n",
    "# or\n",
    "short_cities = list(filter(lambda name: len(name) < 10, cities))\n",
    "print(short_cities)"
   ]
  },
  {
   "cell_type": "markdown",
   "metadata": {},
   "source": [
    "### Generators"
   ]
  },
  {
   "cell_type": "code",
   "execution_count": null,
   "metadata": {},
   "outputs": [],
   "source": [
    "# Generators\n",
    "def my_range(x):\n",
    "    i = 0\n",
    "    while i < x:\n",
    "        yield i\n",
    "        i += 1\n",
    "# since this returns an iterator, we can convert it to a list\n",
    "# or iterate through it in a loop to view its contents\n",
    "for x in my_range(5):\n",
    "    print(x)\n",
    "'''\n",
    "0\n",
    "1\n",
    "2\n",
    "3\n",
    "4\n",
    "'''\n",
    "\n",
    "# You can create a generator in the same way you'd normally write a list comprehension, except with\n",
    "# parentheses instead of square brackets.\n",
    "# this list comprehension produces a list of squares\n",
    "sq_list = [x**2 for x in range(10)]\n",
    "# this generator produces an iterator of squares\n",
    "sq_iterator = (x**2 for x in range(10))\n",
    "\n",
    "# example\n",
    "# generator function that works like the built-in function enumerate\n",
    "lessons = [\"Why Python Programming\", \"Data Types and Operators\", \"Control Flow\", \"Functions\", \"Scripting\"]\n",
    "def my_enumerate(iterable, start=0):\n",
    "    i = start\n",
    "    for element in iterable:\n",
    "        yield i, element\n",
    "        i = i + 1\n",
    "for i, lesson in my_enumerate(lessons, 1):\n",
    "    print(\"Lesson {}: {}\".format(i, lesson))\n",
    "'''\n",
    "Lesson 1: Why Python Programming\n",
    "Lesson 2: Data Types and Operators\n",
    "Lesson 3: Control Flow\n",
    "Lesson 4: Functions\n",
    "Lesson 5: Scripting\n",
    "'''\n",
    "\n",
    "# example\n",
    "# If you have an iterable that is too large to fit in memory in full\n",
    "# (e.g., when dealing with large files), being able to take and use\n",
    "# chunks of it at a time can be very valuable.\n",
    "# Implementing a generator function, chunker, that takes in an\n",
    "# iterable and yields a chunk of a specified size at a time.\n",
    "def chunker(iterable, size):\n",
    "    for i in range(0, len(iterable), size):\n",
    "        yield iterable[i:i + size]\n",
    "for chunk in chunker(range(25), 4):\n",
    "    print(list(chunk))"
   ]
  },
  {
   "cell_type": "markdown",
   "metadata": {},
   "source": [
    "### create list"
   ]
  },
  {
   "cell_type": "code",
   "execution_count": null,
   "metadata": {
    "_kg_hide-output": false
   },
   "outputs": [],
   "source": [
    "list_of_random_things = [1, 3.4, 'a string', True]"
   ]
  },
  {
   "cell_type": "markdown",
   "metadata": {},
   "source": [
    "### access list elements"
   ]
  },
  {
   "cell_type": "code",
   "execution_count": null,
   "metadata": {
    "_kg_hide-output": false
   },
   "outputs": [],
   "source": [
    "list_of_random_things[0];\n",
    "list_of_random_things[-1]; #last element\n",
    "list_of_random_things[len(list_of_random_things) - 1]; #last element"
   ]
  },
  {
   "cell_type": "markdown",
   "metadata": {},
   "source": [
    "### slicing [,)"
   ]
  },
  {
   "cell_type": "code",
   "execution_count": null,
   "metadata": {
    "_kg_hide-output": false
   },
   "outputs": [],
   "source": [
    "list_of_random_things[1:3] # returns [3.4, 'a string']\n",
    "list_of_random_things[:2] # returns [1, 3.4]\n",
    "list_of_random_things[1:] # returns all of the elements to the end of the list [3.4, 'a string', True]"
   ]
  },
  {
   "cell_type": "markdown",
   "metadata": {},
   "source": [
    "### in, not in"
   ]
  },
  {
   "cell_type": "code",
   "execution_count": null,
   "metadata": {
    "_kg_hide-output": false
   },
   "outputs": [],
   "source": [
    "# in, not in\n",
    "'this' in 'this is a string' # True\n",
    "'in' in 'this is a string' # True\n",
    "'isa' in 'this is a string' # False\n",
    "5 not in [1, 2, 3, 4, 6] # True\n",
    "5 in [1, 2, 3, 4, 6] # False"
   ]
  },
  {
   "cell_type": "markdown",
   "metadata": {},
   "source": [
    "### Mutable and ordered"
   ]
  },
  {
   "cell_type": "code",
   "execution_count": null,
   "metadata": {
    "_kg_hide-output": false
   },
   "outputs": [],
   "source": [
    "# Mutable and ordered\n",
    "my_lst = [1, 2, 3, 4, 5]\n",
    "my_lst[0] = 0\n",
    "print(my_lst)"
   ]
  },
  {
   "cell_type": "markdown",
   "metadata": {},
   "source": [
    "### length of list"
   ]
  },
  {
   "cell_type": "code",
   "execution_count": null,
   "metadata": {
    "_kg_hide-output": false
   },
   "outputs": [],
   "source": [
    "# length of list\n",
    "len(list_of_random_things)"
   ]
  },
  {
   "cell_type": "markdown",
   "metadata": {},
   "source": [
    "### smallest and greatest element in list"
   ]
  },
  {
   "cell_type": "code",
   "execution_count": null,
   "metadata": {
    "_kg_hide-output": true
   },
   "outputs": [],
   "source": [
    "# returns the smallest element of the list\n",
    "min(list_of_random_things)\n",
    "\n",
    "# returns the greatest element of the list. This works because the the max function is defined in terms of the greater than comparison operator. The max function is undefined for lists that contain elements from different, incomparable types.\n",
    "max(list_of_random_things)"
   ]
  },
  {
   "cell_type": "markdown",
   "metadata": {},
   "source": [
    "### sort list"
   ]
  },
  {
   "cell_type": "code",
   "execution_count": null,
   "metadata": {
    "_kg_hide-output": true
   },
   "outputs": [],
   "source": [
    "# returns a copy of a list in order from smallest to largest,\n",
    "# leaving the list unchanged.\n",
    "sorted(list_of_random_things)"
   ]
  },
  {
   "cell_type": "markdown",
   "metadata": {},
   "source": [
    "### join()"
   ]
  },
  {
   "cell_type": "code",
   "execution_count": null,
   "metadata": {
    "_kg_hide-output": false
   },
   "outputs": [],
   "source": [
    "# join() returns a string consisting of the list elements joined by a separator string.\n",
    "# Takes only a list of strings as an argument\n",
    "name = \"-\".join([\"Grace\", \"Kelly\"])\n",
    "print(name) # Grace-Kelly"
   ]
  },
  {
   "cell_type": "markdown",
   "metadata": {},
   "source": [
    "### Creating a new list"
   ]
  },
  {
   "cell_type": "code",
   "execution_count": null,
   "metadata": {
    "_kg_hide-output": false
   },
   "outputs": [],
   "source": [
    "cities = ['new york city', 'mountain view', 'chicago', 'los angeles']\n",
    "capitalized_cities = []\n",
    "for city in cities:\n",
    "    capitalized_cities.append(city.title())"
   ]
  },
  {
   "cell_type": "markdown",
   "metadata": {},
   "source": [
    "### Adding an element to the end of a list - append()"
   ]
  },
  {
   "cell_type": "code",
   "execution_count": null,
   "metadata": {
    "_kg_hide-output": false
   },
   "outputs": [],
   "source": [
    "letters = ['a', 'b', 'c', 'd']\n",
    "letters.append('z')\n",
    "print(letters) # ['a', 'b', 'c', 'd', 'z']\n",
    "# Note: letters[i] = 'z'; wouldn't work, use append()"
   ]
  },
  {
   "cell_type": "markdown",
   "metadata": {},
   "source": [
    "### Modifying a new list"
   ]
  },
  {
   "cell_type": "code",
   "execution_count": null,
   "metadata": {
    "_kg_hide-output": false
   },
   "outputs": [],
   "source": [
    "cities = ['new york city', 'mountain view', 'chicago', 'los angeles']\n",
    "for index in range(len(cities)):\n",
    "    cities[index] = cities[index].title()"
   ]
  },
  {
   "cell_type": "markdown",
   "metadata": {},
   "source": [
    "### Print a formatted string from parameters in list"
   ]
  },
  {
   "cell_type": "code",
   "execution_count": null,
   "metadata": {
    "_kg_hide-output": false
   },
   "outputs": [],
   "source": [
    "items = ['first string', 'second string']\n",
    "html_str = \"<ul>\\n\"\n",
    "for item in items:\n",
    "    html_str += \"<li>{}</li>\\n\".format(item)\n",
    "html_str += \"</ul>\"\n",
    "print(html_str)"
   ]
  },
  {
   "cell_type": "markdown",
   "metadata": {},
   "source": [
    "### Convert an iterable (tuple, string, set, dictionary) to a list - list()"
   ]
  },
  {
   "cell_type": "code",
   "execution_count": null,
   "metadata": {
    "_kg_hide-output": false
   },
   "outputs": [],
   "source": [
    "# vowel string\n",
    "vowelString = 'aeiou'\n",
    "print(list(vowelString))\n",
    "\n",
    "# vowel tuple\n",
    "vowelTuple = ('a', 'e', 'i', 'o', 'u')\n",
    "print(list(vowelTuple))\n",
    "\n",
    "# vowel list\n",
    "vowelList = ['a', 'e', 'i', 'o', 'u']\n",
    "print(list(vowelList))\n",
    "\n",
    "# All Print: ['a', 'e', 'i', 'o', 'u']"
   ]
  },
  {
   "cell_type": "markdown",
   "metadata": {},
   "source": [
    "## Tuples()\n",
    "**immutable ordered sequences of elements.**\n",
    "- They are often used to store related pieces of information. The parentheses are optional when defining tuples.\n",
    "- Are ordered - can lookup elements by index.\n",
    "- Are immutable - can not be changed. You can't add and remove items from tuples, or sort them in place."
   ]
  },
  {
   "cell_type": "markdown",
   "metadata": {},
   "source": [
    "### create tuple"
   ]
  },
  {
   "cell_type": "code",
   "execution_count": null,
   "metadata": {
    "_kg_hide-output": false
   },
   "outputs": [],
   "source": [
    "location = (13.4125, 103.866667)"
   ]
  },
  {
   "cell_type": "markdown",
   "metadata": {},
   "source": [
    "### access tuple"
   ]
  },
  {
   "cell_type": "code",
   "execution_count": null,
   "metadata": {
    "_kg_hide-output": false
   },
   "outputs": [],
   "source": [
    "print(\"Latitude:\", location[0])\n",
    "print(\"Longitude:\", location[1])"
   ]
  },
  {
   "cell_type": "markdown",
   "metadata": {},
   "source": [
    "### tuple packing"
   ]
  },
  {
   "cell_type": "code",
   "execution_count": null,
   "metadata": {
    "_kg_hide-output": false
   },
   "outputs": [],
   "source": [
    "# can also be used to assign multiple variables in a compact way\n",
    "dimensions = 52, 40, 100"
   ]
  },
  {
   "cell_type": "markdown",
   "metadata": {},
   "source": [
    "### tuple unpacking"
   ]
  },
  {
   "cell_type": "code",
   "execution_count": null,
   "metadata": {
    "_kg_hide-output": false
   },
   "outputs": [],
   "source": [
    "# tuple unpacking\n",
    "length, width, height = dimensions\n",
    "print(\"The dimensions are {} x {} x {}\".format(length, width, height))"
   ]
  },
  {
   "cell_type": "markdown",
   "metadata": {},
   "source": [
    "## Sets{}\n",
    "**mutable, unordered collections of unique elements.**\n",
    "- Are unordered - can not lookup elements by index.\n",
    "- Are mutable - can be changed.\n",
    "- Sets support the **in** operator the same as lists do.\n",
    "- One application of a set is to quickly remove duplicates from a list.\n",
    "- You cannot have the same item twice and you cannot sort sets. For these two properties a list would be more appropriate.\n",
    "- You can add elements to sets using the **add()** method, and remove elements using the **pop()** method, similar to lists. Although, when you pop an element from a set, a random element is removed. Remember that sets, unlike lists, are unordered so there is no \"last element\".\n",
    "- Other operations you can perform with sets include those of mathematical sets. Methods like union, intersection, and difference are easy to perform with sets, and are much faster than such operators with other containers."
   ]
  },
  {
   "cell_type": "markdown",
   "metadata": {},
   "source": [
    "### create sets"
   ]
  },
  {
   "cell_type": "code",
   "execution_count": null,
   "metadata": {
    "_kg_hide-output": false
   },
   "outputs": [],
   "source": [
    "numbers = [1, 2, 6, 3, 1, 1, 6]\n",
    "unique_nums = set(numbers)\n",
    "print(unique_nums) # {1, 2, 3, 6}"
   ]
  },
  {
   "cell_type": "code",
   "execution_count": null,
   "metadata": {
    "_kg_hide-output": true
   },
   "outputs": [],
   "source": [
    "fruit = {\"apple\", \"banana\", \"orange\", \"grapefruit\"}"
   ]
  },
  {
   "cell_type": "markdown",
   "metadata": {},
   "source": [
    "### check for element"
   ]
  },
  {
   "cell_type": "code",
   "execution_count": null,
   "metadata": {
    "_kg_hide-output": false
   },
   "outputs": [],
   "source": [
    "print(\"watermelon\" in fruit)"
   ]
  },
  {
   "cell_type": "markdown",
   "metadata": {},
   "source": [
    "### add an element"
   ]
  },
  {
   "cell_type": "code",
   "execution_count": null,
   "metadata": {
    "_kg_hide-output": false
   },
   "outputs": [],
   "source": [
    "fruit.add(\"watermelon\")\n",
    "print(fruit)"
   ]
  },
  {
   "cell_type": "markdown",
   "metadata": {},
   "source": [
    "### remove a random element"
   ]
  },
  {
   "cell_type": "code",
   "execution_count": null,
   "metadata": {
    "_kg_hide-output": false
   },
   "outputs": [],
   "source": [
    "print(fruit.pop())\n",
    "print(fruit)"
   ]
  },
  {
   "cell_type": "markdown",
   "metadata": {},
   "source": [
    "## Dicts{}\n",
    "**mutable data type that stores mappings of unique keys to values.**\n",
    "- Are ordered - can lookup elements by key.\n",
    "- Are mutable - can be changed.\n",
    "- Dictionaries can have *keys of any immutable type*, like integers or tuples, not just strings. It's not even necessary for every key to have the same type!\n",
    "- We can look up values or insert new values in the dictionary using square brackets that enclose the key."
   ]
  },
  {
   "cell_type": "markdown",
   "metadata": {},
   "source": [
    "### create dict"
   ]
  },
  {
   "cell_type": "code",
   "execution_count": null,
   "metadata": {
    "_kg_hide-output": false
   },
   "outputs": [],
   "source": [
    "elements = {\"hydrogen\": 1, \"helium\": 2, \"carbon\": 6}"
   ]
  },
  {
   "cell_type": "markdown",
   "metadata": {},
   "source": [
    "### accessing an element's value"
   ]
  },
  {
   "cell_type": "code",
   "execution_count": null,
   "metadata": {
    "_kg_hide-output": false
   },
   "outputs": [],
   "source": [
    "print(elements[\"helium\"])"
   ]
  },
  {
   "cell_type": "markdown",
   "metadata": {},
   "source": [
    "### adding elements"
   ]
  },
  {
   "cell_type": "code",
   "execution_count": null,
   "metadata": {
    "_kg_hide-output": false
   },
   "outputs": [],
   "source": [
    "elements[\"lithium\"] = 3 "
   ]
  },
  {
   "cell_type": "markdown",
   "metadata": {},
   "source": [
    "### Iterating through a dictionary"
   ]
  },
  {
   "cell_type": "code",
   "execution_count": null,
   "metadata": {
    "_kg_hide-output": true
   },
   "outputs": [],
   "source": [
    "# Just keys\n",
    "for key in cast:\n",
    "    print(key)\n",
    "# Keys and values\n",
    "for key, value in cast.items():\n",
    "    print(\"Actor: {}    Role: {}\".format(key, value))"
   ]
  },
  {
   "cell_type": "markdown",
   "metadata": {},
   "source": [
    "### check whether a value is in a dictionary"
   ]
  },
  {
   "cell_type": "code",
   "execution_count": null,
   "metadata": {
    "_kg_hide-output": false
   },
   "outputs": [],
   "source": [
    "# check whether a value is in a dictionary, the same way we check whether a value is in a list or set with the in keyword.\n",
    "print(\"carbon\" in elements) # True"
   ]
  },
  {
   "cell_type": "markdown",
   "metadata": {},
   "source": [
    "### get() looks up values in a dictionary"
   ]
  },
  {
   "cell_type": "code",
   "execution_count": null,
   "metadata": {
    "_kg_hide-output": false
   },
   "outputs": [],
   "source": [
    "# get() looks up values in a dictionary, but unlike square brackets, get returns None (or a default value of your choice) if the key isn't found.\n",
    "# If you expect lookups to sometimes fail, get might be a better tool than normal square bracket lookups.\n",
    "print(elements.get(\"dilithium\")) # None\n",
    "print(elements.get('kryptonite', 'There\\'s no such element!'))\n",
    "# \"There's no such element!\""
   ]
  },
  {
   "cell_type": "markdown",
   "metadata": {},
   "source": [
    "### Identity Operators"
   ]
  },
  {
   "cell_type": "code",
   "execution_count": null,
   "metadata": {
    "_kg_hide-output": false
   },
   "outputs": [],
   "source": [
    "n = elements.get(\"dilithium\")\n",
    "print(n is None) # True\n",
    "print(n is not None) # False"
   ]
  },
  {
   "cell_type": "markdown",
   "metadata": {},
   "source": [
    "### Equality (==) and identity (is)"
   ]
  },
  {
   "cell_type": "code",
   "execution_count": null,
   "metadata": {
    "_kg_hide-output": false
   },
   "outputs": [],
   "source": [
    "a = [1, 2, 3]\n",
    "b = a\n",
    "c = [1, 2, 3]\n",
    "print(a == b) # True\n",
    "print(a is b) # True\n",
    "print(a == c) # True\n",
    "print(a is c) # False\n",
    "# List a and list b are equal and identical.\n",
    "# List c is equal to a (and b for that matter) since they have the same contents. But a and c (and b for that matter, again) point to two different objects, i.e., they aren't identical objects.\n",
    "# That is the difference between checking for equality vs. identity."
   ]
  },
  {
   "cell_type": "markdown",
   "metadata": {},
   "source": [
    "### Compound Data Structures"
   ]
  },
  {
   "cell_type": "code",
   "execution_count": null,
   "metadata": {
    "_kg_hide-output": false
   },
   "outputs": [],
   "source": [
    "elements = {\"hydrogen\": {\"number\": 1,\n",
    "                         \"weight\": 1.00794,\n",
    "                         \"symbol\": \"H\"},\n",
    "              \"helium\": {\"number\": 2,\n",
    "                         \"weight\": 4.002602,\n",
    "                         \"symbol\": \"He\"}}\n",
    "helium = elements[\"helium\"]  # get the helium dictionary\n",
    "hydrogen_weight = elements[\"hydrogen\"][\"weight\"]  # get hydrogen's weight\n",
    "oxygen = {\"number\":8,\"weight\":15.999,\"symbol\":\"O\"}  # create a new oxygen dictionary \n",
    "elements[\"oxygen\"] = oxygen  # assign 'oxygen' as a key to the elements dictionary\n",
    "print('elements = ', elements)"
   ]
  },
  {
   "cell_type": "markdown",
   "metadata": {},
   "source": [
    "### Dict frequency counter"
   ]
  },
  {
   "cell_type": "code",
   "execution_count": null,
   "metadata": {
    "_kg_hide-output": false
   },
   "outputs": [],
   "source": [
    "words =  ['great', 'expectations','the', 'adventures', 'of', 'sherlock','holmes','the','great','gasby','hamlet','adventures','of','huckleberry','fin'];\n",
    "word_counter = {}\n",
    "for word in words:\n",
    "    word_counter[word] = word_counter.get(word,0)+1;\n",
    "print(word_counter);\n",
    "# Prints {'fin': 1, 'huckleberry': 1, 'hamlet': 1, 'holmes': 1, 'adventures': 2, 'sherlock': 1, 'expectations': 1, 'great': 2, 'the': 2, 'of': 2, 'gasby': 1}"
   ]
  }
 ],
 "metadata": {
  "kernelspec": {
   "display_name": "Python 3 (ipykernel)",
   "language": "python",
   "name": "python3"
  },
  "language_info": {
   "codemirror_mode": {
    "name": "ipython",
    "version": 3
   },
   "file_extension": ".py",
   "mimetype": "text/x-python",
   "name": "python",
   "nbconvert_exporter": "python",
   "pygments_lexer": "ipython3",
   "version": "3.9.7"
  },
  "toc": {
   "base_numbering": 1,
   "nav_menu": {},
   "number_sections": true,
   "sideBar": true,
   "skip_h1_title": false,
   "title_cell": "Table of Contents",
   "title_sidebar": "Contents",
   "toc_cell": false,
   "toc_position": {
    "height": "calc(100% - 180px)",
    "left": "10px",
    "top": "150px",
    "width": "230px"
   },
   "toc_section_display": true,
   "toc_window_display": true
  }
 },
 "nbformat": 4,
 "nbformat_minor": 4
}
